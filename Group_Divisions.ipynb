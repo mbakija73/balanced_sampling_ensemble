{
  "nbformat": 4,
  "nbformat_minor": 0,
  "metadata": {
    "colab": {
      "provenance": []
    },
    "kernelspec": {
      "name": "python3",
      "display_name": "Python 3"
    },
    "language_info": {
      "name": "python"
    }
  },
  "cells": [
    {
      "cell_type": "code",
      "execution_count": null,
      "metadata": {
        "id": "LzonPri1Od4_"
      },
      "outputs": [],
      "source": [
        "from google.colab import drive\n",
        "drive.mount('/content/drive')"
      ]
    },
    {
      "cell_type": "code",
      "source": [
        "%cd /content/drive/MyDrive/COMP597/Harvard/ReadMe\n",
        "import numpy as np\n",
        "import pandas as pd\n",
        "df = pd.read_csv('data_summary.csv')"
      ],
      "metadata": {
        "id": "f-FJ88AUPtnf",
        "colab": {
          "base_uri": "https://localhost:8080/"
        },
        "outputId": "7411bc52-9250-4d57-fa03-994412b5a26a"
      },
      "execution_count": null,
      "outputs": [
        {
          "output_type": "stream",
          "name": "stdout",
          "text": [
            "/content/drive/MyDrive/COMP597/Harvard/ReadMe\n"
          ]
        }
      ]
    },
    {
      "cell_type": "code",
      "source": [
        "m = 10 #number of models 800 per group\n",
        "n = 3  #number of groups\n",
        "k = 4 #number of times an individual can show up > 3.5\n",
        "r = 2 #number of slices\n",
        "df_train = df[df['use'] == \"training\"]"
      ],
      "metadata": {
        "id": "Xp91BBR7Ot_7"
      },
      "execution_count": null,
      "outputs": []
    },
    {
      "cell_type": "markdown",
      "source": [
        "#Representative Group Divisions"
      ],
      "metadata": {
        "id": "5Nf_QHkbxnNn"
      }
    },
    {
      "cell_type": "code",
      "source": [
        "groups = []\n",
        "df_train = df[df['use'] == \"training\"]\n",
        "df_train.loc[:, 'number of times'] = 0\n",
        "min_a = 0\n",
        "min_w = 0\n",
        "min_b = 0\n",
        "for i in range(1,m+1):\n",
        "  #sample each group\n",
        "  group_name = \"group\" + str(i)\n",
        "  print(group_name)\n",
        "  df_train.loc[:, group_name] = 0\n",
        "  for p in range(266):\n",
        "    min_b = df_train[df_train['race'] == 'black']['number of times'].min()\n",
        "    x = df_train[(df_train['number of times'] == min_b) & (df_train['race'] == 'black') & (df_train[group_name] == 0)].sample(n=1)\n",
        "    #increase number of times\n",
        "    df_train.iloc[x.index[0],8] += 1\n",
        "    #add to group\n",
        "    df_train.iloc[x.index[0],8 + i] = 1\n",
        "  print(df_train[group_name].value_counts())\n",
        "  for p in range(266):\n",
        "    min_w = df_train[df_train['race'] == 'white']['number of times'].min()\n",
        "    x = df_train[(df_train['number of times'] == min_w) & (df_train['race'] == 'white') & (df_train[group_name] == 0)].sample(n=1)\n",
        "    #increase number of times\n",
        "    df_train.iloc[x.index[0],8] += 1\n",
        "    #add to group\n",
        "    df_train.iloc[x.index[0],8 + i] = 1\n",
        "  print(df_train[group_name].value_counts())\n",
        "  for p in range(266):\n",
        "    min_a = df_train[df_train['race'] == 'asian']['number of times'].min()\n",
        "    x = df_train[(df_train['number of times'] == min_a) & (df_train['race'] == 'asian') & (df_train[group_name] == 0)].sample(n=1)\n",
        "    #increase number of times\n",
        "    df_train.iloc[x.index[0],8] += 1\n",
        "    #add to group\n",
        "    df_train.iloc[x.index[0],8 + i] = 1\n",
        "  print(df_train[group_name].value_counts())\n",
        "  #print(df_train[group_name].mean())\n",
        "print(min_a, min_b, min_w)\n",
        "print(df_train['number of times'].mean())\n",
        "print(df_train['number of times'].max())"
      ],
      "metadata": {
        "id": "59G2CInmpbUE"
      },
      "execution_count": null,
      "outputs": []
    },
    {
      "cell_type": "code",
      "source": [
        "df_train.to_csv('representative4_model_groups.csv')\n",
        "df = pd.read_csv('representative4_model_groups.csv')"
      ],
      "metadata": {
        "id": "YYEjKD_nsTtk"
      },
      "execution_count": null,
      "outputs": []
    },
    {
      "cell_type": "code",
      "source": [
        "%cd .."
      ],
      "metadata": {
        "id": "8AZ_-m0K2TWY"
      },
      "execution_count": null,
      "outputs": []
    },
    {
      "cell_type": "code",
      "source": [
        "%cd FairSeg/SAMed/lists/FairSeg_final"
      ],
      "metadata": {
        "id": "UJQ-lkUr3OLz"
      },
      "execution_count": null,
      "outputs": []
    },
    {
      "cell_type": "code",
      "source": [
        "for i in range(10,20):\n",
        "  print(df.columns[i])\n",
        "  files = []\n",
        "  j = 0\n",
        "  sl = 1\n",
        "  for index, row in df.iterrows():\n",
        "    if(j < (798/r)):\n",
        "      if(row[i] == 1):\n",
        "        j = j + 1\n",
        "        files.append(row['filename'])\n",
        "    else:\n",
        "      break\n",
        "  print(j)\n",
        "  output_file_path = \"Representative_\" + str(i - 9) + \"_round_4_S\"+str(1)+\".txt\"\n",
        "  with open(output_file_path, 'w') as file:\n",
        "      for item in files:\n",
        "        file.write(f\"{item}\\n\")\n",
        "  print(f\"List saved to {output_file_path}\")\n",
        "\n",
        "for i in range(10,20):\n",
        "  print(df.columns[i])\n",
        "  files = []\n",
        "  for index, row in df.iterrows():\n",
        "      if(row[i] == 1):\n",
        "\n",
        "        files.append(row['filename'])\n",
        "\n",
        "  output_file_path = \"Representative_\" + str(i - 9) + \"_round_4_S2.txt\"\n",
        "  with open(output_file_path, 'w') as file:\n",
        "      for item in files:\n",
        "        file.write(f\"{item}\\n\")\n",
        "  print(f\"List saved to {output_file_path}\")\n",
        "  print(j)"
      ],
      "metadata": {
        "id": "LL2qcAxIufi7",
        "collapsed": true
      },
      "execution_count": null,
      "outputs": []
    },
    {
      "cell_type": "markdown",
      "source": [
        "#Random group divisions"
      ],
      "metadata": {
        "id": "KsFZpu1Jydu_"
      }
    },
    {
      "cell_type": "code",
      "source": [
        "df = pd.read_csv('data_summary.csv')\n",
        "df_train = df[df['use'] == \"training\"]\n",
        "df_train.loc[:, 'number of times'] = 0\n",
        "min = 0\n",
        "for i in range(1,m+1):\n",
        "  #sample each group\n",
        "  group_name = \"group\" + str(i)\n",
        "  print(group_name)\n",
        "  df_train.loc[:, group_name] = 0\n",
        "  for p in range(798):\n",
        "    min = df_train['number of times'].min()\n",
        "    x = df_train[(df_train['number of times'] == min)].sample(n=1)\n",
        "    #increase number of times\n",
        "    df_train.iloc[x.index[0],8] += 1\n",
        "    #add to group\n",
        "    df_train.iloc[x.index[0],8 + i] = 1\n",
        "  print(df_train[group_name].mean())\n",
        "print(min)\n",
        "print(df_train['number of times'].mean())\n",
        "print(df_train['number of times'].max())\n",
        "df_train.to_csv('random1_model_groups.csv')"
      ],
      "metadata": {
        "id": "c3Zh5iwZuxfo"
      },
      "execution_count": null,
      "outputs": []
    },
    {
      "cell_type": "code",
      "source": [
        "df_train.to_csv('random4_model_groups.csv')\n",
        "df = pd.read_csv('random4_model_groups.csv')"
      ],
      "metadata": {
        "id": "G7LIWWcWzUuU"
      },
      "execution_count": null,
      "outputs": []
    },
    {
      "cell_type": "code",
      "source": [
        "%cd ..\n",
        "%cd FairSeg/SAMed/lists/FairSeg_final"
      ],
      "metadata": {
        "id": "sCaWDpUUk4-u"
      },
      "execution_count": null,
      "outputs": []
    },
    {
      "cell_type": "code",
      "source": [
        "for i in range(10,20):\n",
        "  print(df.columns[i])\n",
        "  files = []\n",
        "  j = 0\n",
        "  sl = 1\n",
        "  for index, row in df.iterrows():\n",
        "    if(j < (798/r)):\n",
        "      if(row[i] == 1):\n",
        "        j = j + 1\n",
        "        files.append(row['filename'])\n",
        "    else:\n",
        "      break\n",
        "  print(j)\n",
        "  output_file_path = \"Random_\" + str(i - 9) + \"_round_4_S\"+str(1)+\".txt\"\n",
        "  with open(output_file_path, 'w') as file:\n",
        "      for item in files:\n",
        "        file.write(f\"{item}\\n\")\n",
        "  print(f\"List saved to {output_file_path}\")\n",
        "\n",
        "for i in range(10,20):\n",
        "  print(df.columns[i])\n",
        "  files = []\n",
        "  for index, row in df.iterrows():\n",
        "      if(row[i] == 1):\n",
        "\n",
        "        files.append(row['filename'])\n",
        "\n",
        "  output_file_path = \"Random_\" + str(i - 9) + \"_round_4_S2.txt\"\n",
        "  with open(output_file_path, 'w') as file:\n",
        "      for item in files:\n",
        "        file.write(f\"{item}\\n\")\n",
        "  print(f\"List saved to {output_file_path}\")\n",
        "  print(j)"
      ],
      "metadata": {
        "id": "8heE2U58Fe1j"
      },
      "execution_count": null,
      "outputs": []
    }
  ]
}